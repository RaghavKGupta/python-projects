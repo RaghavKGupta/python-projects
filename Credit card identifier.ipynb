{
 "cells": [
  {
   "cell_type": "markdown",
   "metadata": {},
   "source": [
    "### The algorithm used"
   ]
  },
  {
   "cell_type": "markdown",
   "metadata": {},
   "source": [
    "1. From the rightmost digit, which is the check digit, moving \n",
    "left, double the value of every second digit; if product of this\n",
    "doubling operation is greater than 9 (e.g., 7 * 2 = 14), then\n",
    "sum the digits of the products (e.g., 10: 1 + 0 = 1, 14: 1 + 4 = 5).\n",
    "2. Add the doubled digits with the undoubled digits from the\n",
    "original number.\n",
    "This procedure can be changed as: num (>9) - 9\n",
    "3. If the total is equal to zero, then the number is valid according to the Luhn formula; else it is\n",
    "not valid.\n"
   ]
  },
  {
   "cell_type": "code",
   "execution_count": 62,
   "metadata": {},
   "outputs": [
    {
     "name": "stdout",
     "output_type": "stream",
     "text": [
      "Enter the credit card number to check: 406***********6\n",
      "The number is valid\n",
      "Your card vendor is Visa\n"
     ]
    }
   ],
   "source": [
    "if __name__ == '__main__':\n",
    "    number = raw_input('Enter the credit card number to check: ').replace(' ', '')\n",
    "    \n",
    "    digits = [int(char) for char in number]\n",
    "    var = digits[0]\n",
    "    digits = digits[-1::-1] # starting from the right most digit.\n",
    "\n",
    "    # double the alternate digits\n",
    "    doubled = [(digit * 2) if ((i+1) % 2 == 0) else digit \\\n",
    "           for (i, digit) in enumerate(digits)] \n",
    "    # subtract 9 if the value is greater than 10.\n",
    "    summed = [num if num < 10 else num-9 \\\n",
    "              for num in doubled]\n",
    "    if sum(summed) % 10 == 0:\n",
    "        print 'The number is valid'\n",
    "    else:\n",
    "        print 'The number is invalid'\n",
    "    \n",
    "    if (sum(summed) % 10 == 0) and (var==4):\n",
    "        print 'Your card vendor is Visa'\n",
    "    if (sum(summed) % 10 == 0) and (var==5):\n",
    "        print 'Your card vendor is Mastercard'"
   ]
  },
  {
   "cell_type": "code",
   "execution_count": null,
   "metadata": {
    "collapsed": true
   },
   "outputs": [],
   "source": []
  }
 ],
 "metadata": {
  "kernelspec": {
   "display_name": "Python 2",
   "language": "python",
   "name": "python2"
  },
  "language_info": {
   "codemirror_mode": {
    "name": "ipython",
    "version": 2
   },
   "file_extension": ".py",
   "mimetype": "text/x-python",
   "name": "python",
   "nbconvert_exporter": "python",
   "pygments_lexer": "ipython2",
   "version": "2.7.13"
  }
 },
 "nbformat": 4,
 "nbformat_minor": 2
}
