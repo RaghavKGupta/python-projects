{
 "cells": [
  {
   "cell_type": "markdown",
   "metadata": {},
   "source": [
    "## IP address location finder\n",
    "\n",
    "The motivation for this project was a) to work with and understand how the geoip library works and b) a cool project to actually support my learnings and findings. I always wondered how close I can get to locating a person and actually feel like an average \"Snowden\". I guess this a good first step towards that. One fact to note that the IP address must be known. "
   ]
  },
  {
   "cell_type": "code",
   "execution_count": 16,
   "metadata": {
    "collapsed": true
   },
   "outputs": [],
   "source": [
    "from geoip import geolite2\n",
    "from urllib2 import urlopen\n",
    "import json"
   ]
  },
  {
   "cell_type": "markdown",
   "metadata": {},
   "source": [
    "This function finds the address of where the IP address is registered using the google maps API. "
   ]
  },
  {
   "cell_type": "code",
   "execution_count": 12,
   "metadata": {
    "collapsed": true
   },
   "outputs": [],
   "source": [
    "def getplace(lat, lon):\n",
    "    maps_url = \"http://maps.googleapis.com/maps/api/geocode/json?\"\n",
    "    maps_url += \"latlng=%s,%s&sensor=false\" % (lat, lon)\n",
    "    cont = urlopen(maps_url).read()\n",
    "    data = json.loads(cont)\n",
    "    # result number zero contains maximum information\n",
    "    components = data['results'][0]['formatted_address']\n",
    "    return components"
   ]
  },
  {
   "cell_type": "markdown",
   "metadata": {},
   "source": [
    "This function takes in an IP address and finds the latitude and longitude using the geolite2 library available online."
   ]
  },
  {
   "cell_type": "code",
   "execution_count": 13,
   "metadata": {
    "collapsed": true
   },
   "outputs": [],
   "source": [
    "def main():\n",
    "    ip = raw_input(\"Enter IP : \")\n",
    "    match = geolite2.lookup(ip)\n",
    "    lat, lon = match.location\n",
    "    print \"lat,long =\", lat, lon\n",
    "    print \"address  =\", getplace(lat, lon)"
   ]
  },
  {
   "cell_type": "code",
   "execution_count": 14,
   "metadata": {},
   "outputs": [
    {
     "name": "stdout",
     "output_type": "stream",
     "text": [
      "Enter IP : 68.33.77.178\n",
      "lat,long = 39.1626 -76.6247\n",
      "address  = 100 1st Ave SE, Glen Burnie, MD 21061, USA\n"
     ]
    }
   ],
   "source": [
    "if __name__ == '__main__':\n",
    "    main()"
   ]
  },
  {
   "cell_type": "markdown",
   "metadata": {},
   "source": [
    "The address found above was not really accurate but it was close with an error percentage of 5% in miles."
   ]
  },
  {
   "cell_type": "code",
   "execution_count": null,
   "metadata": {
    "collapsed": true
   },
   "outputs": [],
   "source": []
  }
 ],
 "metadata": {
  "kernelspec": {
   "display_name": "Python 2",
   "language": "python",
   "name": "python2"
  },
  "language_info": {
   "codemirror_mode": {
    "name": "ipython",
    "version": 2
   },
   "file_extension": ".py",
   "mimetype": "text/x-python",
   "name": "python",
   "nbconvert_exporter": "python",
   "pygments_lexer": "ipython2",
   "version": "2.7.13"
  }
 },
 "nbformat": 4,
 "nbformat_minor": 2
}
